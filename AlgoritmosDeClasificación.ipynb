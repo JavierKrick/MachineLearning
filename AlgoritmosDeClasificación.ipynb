{
  "nbformat": 4,
  "nbformat_minor": 0,
  "metadata": {
    "colab": {
      "provenance": []
    },
    "kernelspec": {
      "name": "python3",
      "display_name": "Python 3"
    },
    "language_info": {
      "name": "python"
    }
  },
  "cells": [
    {
      "cell_type": "markdown",
      "source": [
        "#Clasificación para datos no etiquetados y datos etiquetados."
      ],
      "metadata": {
        "id": "j90_mNC84yfd"
      }
    },
    {
      "cell_type": "markdown",
      "source": [
        "###Objetivo del proyecto"
      ],
      "metadata": {
        "id": "sxX0VPAV-gSb"
      }
    },
    {
      "cell_type": "markdown",
      "source": [
        "\n",
        "El trabajo tiene como objetivo principal desarrollar un sistema de clasificación para muestras de vino mediante técnicas de aprendizaje automático.\n",
        "Se va a dividir en dos partes.\n",
        "El dataset contiene datos etiquetados, pero para la primera parte se implementarán algoritmos de clustering no supervisado utilizando exclusivamente las variables fisicoquímicas (como alcohol, ácido málico, ceniza, alcalinidad, magnesio, fenoles, flavonoides, entre otras), prescindiendo de la variable categórica que corresponde al etiquetado.\n",
        "\n",
        "En la segunda parte, se recuperará la variable categórica y se desarrollará un modelo predictivo basado en Random Forest que permitirá clasificar nuevas muestras de vino en las categorías correspondientes.\n",
        "\n",
        "El objetivo es ver es si las características fisicoquímicas analizadas poseen un extraordinario poder discriminativo inherente, capaz de separar las clases de vino incluso sin referencia al etiquetado original y compararlo con cuando se entrena con un algoritmo supervizado."
      ],
      "metadata": {
        "id": "WVOD2DjM5BT5"
      }
    },
    {
      "cell_type": "markdown",
      "source": [
        "###Sobre el Dataset"
      ],
      "metadata": {
        "id": "vvFEOBM15GIw"
      }
    },
    {
      "cell_type": "markdown",
      "source": [
        "El conjunto de datos Wine contiene 178 observaciones distribuidas entre tres clases (correspondientes a tres diferentes cultivares de vid), con 59 muestras para la clase 1, 71 para la clase 2 y 48 para la clase 3. Cada registro incluye trece variables numéricas: alcohol, ácido málico, ceniza, alcalinidad de la ceniza, magnesio, fenoles totales, flavonoides, fenoles no flavonoides, proantocianinas, intensidad de color, matiz, OD280/OD315 de vinos diluidos y prolina. Todas estas variables corresponden a resultados de análisis químicos realizados en cada vino. Adicionalmente, contiene una variable categórica que indica la clase (cultivar) a la que pertenece cada observación. Este dataset presenta características discriminantes entre las tres clases, aunque con diferentes grados de separabilidad en el espacio multidimensional de características.\n"
      ],
      "metadata": {
        "id": "RmcAs1tB4emO"
      }
    },
    {
      "cell_type": "markdown",
      "source": [],
      "metadata": {
        "id": "9IWPGTrH-2s3"
      }
    },
    {
      "cell_type": "code",
      "source": [
        "import pandas as pd\n",
        "from pandasql import sqldf\n",
        "import sklearn\n",
        "from sklearn.preprocessing import StandardScaler\n",
        "import numpy as np\n",
        "import matplotlib.pyplot as plt\n",
        "from sklearn.datasets import load_wine\n",
        "from sklearn.cluster import KMeans\n",
        "from sklearn.metrics import accuracy_score, precision_score, recall_score, f1_score, classification_report, cohen_kappa_score\n",
        "from sklearn.ensemble import RandomForestClassifier, RandomForestRegressor\n",
        "from sklearn.model_selection import train_test_split, GridSearchCV, cross_val_score\n",
        "from sklearn.metrics import accuracy_score, precision_score, recall_score, f1_score, r2_score, mean_squared_error\n",
        "from sklearn.preprocessing import StandardScaler\n",
        "import matplotlib.pyplot as plt\n",
        "import seaborn as sns\n",
        "from sklearn.model_selection import train_test_split, KFold, cross_val_score\n",
        "from sklearn.model_selection import train_test_split, GridSearchCV\n",
        "\n",
        "\n",
        "\n",
        "\n",
        "\n",
        "\n",
        "wine = load_wine()\n",
        "df = pd.DataFrame(data=wine.data, columns=wine.feature_names)\n",
        "df['species'] = pd.Categorical.from_codes(wine.target, wine.target_names)\n"
      ],
      "metadata": {
        "id": "mgB2XGQi5Qxj"
      },
      "execution_count": 125,
      "outputs": []
    },
    {
      "cell_type": "code",
      "source": [
        "\n",
        "print(\"Columnas en el dataset:\")\n",
        "print(df.columns.tolist())\n",
        "print(\"\\n\")\n",
        "\n",
        "print(\"Primeras filas del dataset:\")\n",
        "print(df.head())\n",
        "print(\"\\n\")\n",
        "\n"
      ],
      "metadata": {
        "colab": {
          "base_uri": "https://localhost:8080/"
        },
        "id": "qvfd5Lir50ST",
        "outputId": "b2773369-1347-4a8c-dc40-cb4193a373d7"
      },
      "execution_count": 126,
      "outputs": [
        {
          "output_type": "stream",
          "name": "stdout",
          "text": [
            "Columnas en el dataset:\n",
            "['alcohol', 'malic_acid', 'ash', 'alcalinity_of_ash', 'magnesium', 'total_phenols', 'flavanoids', 'nonflavanoid_phenols', 'proanthocyanins', 'color_intensity', 'hue', 'od280/od315_of_diluted_wines', 'proline', 'species']\n",
            "\n",
            "\n",
            "Primeras filas del dataset:\n",
            "   alcohol  malic_acid   ash  alcalinity_of_ash  magnesium  total_phenols  \\\n",
            "0    14.23        1.71  2.43               15.6      127.0           2.80   \n",
            "1    13.20        1.78  2.14               11.2      100.0           2.65   \n",
            "2    13.16        2.36  2.67               18.6      101.0           2.80   \n",
            "3    14.37        1.95  2.50               16.8      113.0           3.85   \n",
            "4    13.24        2.59  2.87               21.0      118.0           2.80   \n",
            "\n",
            "   flavanoids  nonflavanoid_phenols  proanthocyanins  color_intensity   hue  \\\n",
            "0        3.06                  0.28             2.29             5.64  1.04   \n",
            "1        2.76                  0.26             1.28             4.38  1.05   \n",
            "2        3.24                  0.30             2.81             5.68  1.03   \n",
            "3        3.49                  0.24             2.18             7.80  0.86   \n",
            "4        2.69                  0.39             1.82             4.32  1.04   \n",
            "\n",
            "   od280/od315_of_diluted_wines  proline  species  \n",
            "0                          3.92   1065.0  class_0  \n",
            "1                          3.40   1050.0  class_0  \n",
            "2                          3.17   1185.0  class_0  \n",
            "3                          3.45   1480.0  class_0  \n",
            "4                          2.93    735.0  class_0  \n",
            "\n",
            "\n"
          ]
        }
      ]
    },
    {
      "cell_type": "markdown",
      "source": [
        "##Enfoque No supervizado\n",
        "Se desarrrollará un modelo de clasificación utilizando técnicas no supervisadas, específicamente k-means en combinación con análisis de componentes principales (PCA).\n"
      ],
      "metadata": {
        "id": "UAkoykW9-HyB"
      }
    },
    {
      "cell_type": "code",
      "source": [
        "consulta = \"\"\" SELECT\n",
        "    `alcohol`,\n",
        "    `malic_acid`,\n",
        "    `ash`,\n",
        "    `alcalinity_of_ash`,\n",
        "    `magnesium`,\n",
        "    `total_phenols`,\n",
        "    `flavanoids`,\n",
        "    `nonflavanoid_phenols`,\n",
        "    `proanthocyanins`,\n",
        "    `color_intensity`,\n",
        "    `hue`,\n",
        "    `od280/od315_of_diluted_wines`,\n",
        "    `proline`\n",
        "FROM\n",
        "    df \"\"\"\n",
        "\n",
        "wineNoSupervizado = sqldf(consulta)\n",
        "\n",
        "print(wineNoSupervizado.shape[0])\n",
        "\n",
        "wineNoSupervizado = wineNoSupervizado.dropna()\n",
        "print(wineNoSupervizado.shape[0])\n",
        "\n",
        "wineNoSupervizado.head()\n",
        "\n",
        "\n",
        "\n",
        "\n",
        "\n",
        "\n"
      ],
      "metadata": {
        "colab": {
          "base_uri": "https://localhost:8080/",
          "height": 243
        },
        "id": "4Sbvvv2M8bQl",
        "outputId": "bb1cfa7f-6b16-474a-8add-40f202db3b63"
      },
      "execution_count": 127,
      "outputs": [
        {
          "output_type": "stream",
          "name": "stdout",
          "text": [
            "178\n",
            "178\n"
          ]
        },
        {
          "output_type": "execute_result",
          "data": {
            "text/plain": [
              "   alcohol  malic_acid   ash  alcalinity_of_ash  magnesium  total_phenols  \\\n",
              "0    14.23        1.71  2.43               15.6      127.0           2.80   \n",
              "1    13.20        1.78  2.14               11.2      100.0           2.65   \n",
              "2    13.16        2.36  2.67               18.6      101.0           2.80   \n",
              "3    14.37        1.95  2.50               16.8      113.0           3.85   \n",
              "4    13.24        2.59  2.87               21.0      118.0           2.80   \n",
              "\n",
              "   flavanoids  nonflavanoid_phenols  proanthocyanins  color_intensity   hue  \\\n",
              "0        3.06                  0.28             2.29             5.64  1.04   \n",
              "1        2.76                  0.26             1.28             4.38  1.05   \n",
              "2        3.24                  0.30             2.81             5.68  1.03   \n",
              "3        3.49                  0.24             2.18             7.80  0.86   \n",
              "4        2.69                  0.39             1.82             4.32  1.04   \n",
              "\n",
              "   od280/od315_of_diluted_wines  proline  \n",
              "0                          3.92   1065.0  \n",
              "1                          3.40   1050.0  \n",
              "2                          3.17   1185.0  \n",
              "3                          3.45   1480.0  \n",
              "4                          2.93    735.0  "
            ],
            "text/html": [
              "\n",
              "  <div id=\"df-863fb836-d7f8-4f2d-90e2-41619ad277a3\" class=\"colab-df-container\">\n",
              "    <div>\n",
              "<style scoped>\n",
              "    .dataframe tbody tr th:only-of-type {\n",
              "        vertical-align: middle;\n",
              "    }\n",
              "\n",
              "    .dataframe tbody tr th {\n",
              "        vertical-align: top;\n",
              "    }\n",
              "\n",
              "    .dataframe thead th {\n",
              "        text-align: right;\n",
              "    }\n",
              "</style>\n",
              "<table border=\"1\" class=\"dataframe\">\n",
              "  <thead>\n",
              "    <tr style=\"text-align: right;\">\n",
              "      <th></th>\n",
              "      <th>alcohol</th>\n",
              "      <th>malic_acid</th>\n",
              "      <th>ash</th>\n",
              "      <th>alcalinity_of_ash</th>\n",
              "      <th>magnesium</th>\n",
              "      <th>total_phenols</th>\n",
              "      <th>flavanoids</th>\n",
              "      <th>nonflavanoid_phenols</th>\n",
              "      <th>proanthocyanins</th>\n",
              "      <th>color_intensity</th>\n",
              "      <th>hue</th>\n",
              "      <th>od280/od315_of_diluted_wines</th>\n",
              "      <th>proline</th>\n",
              "    </tr>\n",
              "  </thead>\n",
              "  <tbody>\n",
              "    <tr>\n",
              "      <th>0</th>\n",
              "      <td>14.23</td>\n",
              "      <td>1.71</td>\n",
              "      <td>2.43</td>\n",
              "      <td>15.6</td>\n",
              "      <td>127.0</td>\n",
              "      <td>2.80</td>\n",
              "      <td>3.06</td>\n",
              "      <td>0.28</td>\n",
              "      <td>2.29</td>\n",
              "      <td>5.64</td>\n",
              "      <td>1.04</td>\n",
              "      <td>3.92</td>\n",
              "      <td>1065.0</td>\n",
              "    </tr>\n",
              "    <tr>\n",
              "      <th>1</th>\n",
              "      <td>13.20</td>\n",
              "      <td>1.78</td>\n",
              "      <td>2.14</td>\n",
              "      <td>11.2</td>\n",
              "      <td>100.0</td>\n",
              "      <td>2.65</td>\n",
              "      <td>2.76</td>\n",
              "      <td>0.26</td>\n",
              "      <td>1.28</td>\n",
              "      <td>4.38</td>\n",
              "      <td>1.05</td>\n",
              "      <td>3.40</td>\n",
              "      <td>1050.0</td>\n",
              "    </tr>\n",
              "    <tr>\n",
              "      <th>2</th>\n",
              "      <td>13.16</td>\n",
              "      <td>2.36</td>\n",
              "      <td>2.67</td>\n",
              "      <td>18.6</td>\n",
              "      <td>101.0</td>\n",
              "      <td>2.80</td>\n",
              "      <td>3.24</td>\n",
              "      <td>0.30</td>\n",
              "      <td>2.81</td>\n",
              "      <td>5.68</td>\n",
              "      <td>1.03</td>\n",
              "      <td>3.17</td>\n",
              "      <td>1185.0</td>\n",
              "    </tr>\n",
              "    <tr>\n",
              "      <th>3</th>\n",
              "      <td>14.37</td>\n",
              "      <td>1.95</td>\n",
              "      <td>2.50</td>\n",
              "      <td>16.8</td>\n",
              "      <td>113.0</td>\n",
              "      <td>3.85</td>\n",
              "      <td>3.49</td>\n",
              "      <td>0.24</td>\n",
              "      <td>2.18</td>\n",
              "      <td>7.80</td>\n",
              "      <td>0.86</td>\n",
              "      <td>3.45</td>\n",
              "      <td>1480.0</td>\n",
              "    </tr>\n",
              "    <tr>\n",
              "      <th>4</th>\n",
              "      <td>13.24</td>\n",
              "      <td>2.59</td>\n",
              "      <td>2.87</td>\n",
              "      <td>21.0</td>\n",
              "      <td>118.0</td>\n",
              "      <td>2.80</td>\n",
              "      <td>2.69</td>\n",
              "      <td>0.39</td>\n",
              "      <td>1.82</td>\n",
              "      <td>4.32</td>\n",
              "      <td>1.04</td>\n",
              "      <td>2.93</td>\n",
              "      <td>735.0</td>\n",
              "    </tr>\n",
              "  </tbody>\n",
              "</table>\n",
              "</div>\n",
              "    <div class=\"colab-df-buttons\">\n",
              "\n",
              "  <div class=\"colab-df-container\">\n",
              "    <button class=\"colab-df-convert\" onclick=\"convertToInteractive('df-863fb836-d7f8-4f2d-90e2-41619ad277a3')\"\n",
              "            title=\"Convert this dataframe to an interactive table.\"\n",
              "            style=\"display:none;\">\n",
              "\n",
              "  <svg xmlns=\"http://www.w3.org/2000/svg\" height=\"24px\" viewBox=\"0 -960 960 960\">\n",
              "    <path d=\"M120-120v-720h720v720H120Zm60-500h600v-160H180v160Zm220 220h160v-160H400v160Zm0 220h160v-160H400v160ZM180-400h160v-160H180v160Zm440 0h160v-160H620v160ZM180-180h160v-160H180v160Zm440 0h160v-160H620v160Z\"/>\n",
              "  </svg>\n",
              "    </button>\n",
              "\n",
              "  <style>\n",
              "    .colab-df-container {\n",
              "      display:flex;\n",
              "      gap: 12px;\n",
              "    }\n",
              "\n",
              "    .colab-df-convert {\n",
              "      background-color: #E8F0FE;\n",
              "      border: none;\n",
              "      border-radius: 50%;\n",
              "      cursor: pointer;\n",
              "      display: none;\n",
              "      fill: #1967D2;\n",
              "      height: 32px;\n",
              "      padding: 0 0 0 0;\n",
              "      width: 32px;\n",
              "    }\n",
              "\n",
              "    .colab-df-convert:hover {\n",
              "      background-color: #E2EBFA;\n",
              "      box-shadow: 0px 1px 2px rgba(60, 64, 67, 0.3), 0px 1px 3px 1px rgba(60, 64, 67, 0.15);\n",
              "      fill: #174EA6;\n",
              "    }\n",
              "\n",
              "    .colab-df-buttons div {\n",
              "      margin-bottom: 4px;\n",
              "    }\n",
              "\n",
              "    [theme=dark] .colab-df-convert {\n",
              "      background-color: #3B4455;\n",
              "      fill: #D2E3FC;\n",
              "    }\n",
              "\n",
              "    [theme=dark] .colab-df-convert:hover {\n",
              "      background-color: #434B5C;\n",
              "      box-shadow: 0px 1px 3px 1px rgba(0, 0, 0, 0.15);\n",
              "      filter: drop-shadow(0px 1px 2px rgba(0, 0, 0, 0.3));\n",
              "      fill: #FFFFFF;\n",
              "    }\n",
              "  </style>\n",
              "\n",
              "    <script>\n",
              "      const buttonEl =\n",
              "        document.querySelector('#df-863fb836-d7f8-4f2d-90e2-41619ad277a3 button.colab-df-convert');\n",
              "      buttonEl.style.display =\n",
              "        google.colab.kernel.accessAllowed ? 'block' : 'none';\n",
              "\n",
              "      async function convertToInteractive(key) {\n",
              "        const element = document.querySelector('#df-863fb836-d7f8-4f2d-90e2-41619ad277a3');\n",
              "        const dataTable =\n",
              "          await google.colab.kernel.invokeFunction('convertToInteractive',\n",
              "                                                    [key], {});\n",
              "        if (!dataTable) return;\n",
              "\n",
              "        const docLinkHtml = 'Like what you see? Visit the ' +\n",
              "          '<a target=\"_blank\" href=https://colab.research.google.com/notebooks/data_table.ipynb>data table notebook</a>'\n",
              "          + ' to learn more about interactive tables.';\n",
              "        element.innerHTML = '';\n",
              "        dataTable['output_type'] = 'display_data';\n",
              "        await google.colab.output.renderOutput(dataTable, element);\n",
              "        const docLink = document.createElement('div');\n",
              "        docLink.innerHTML = docLinkHtml;\n",
              "        element.appendChild(docLink);\n",
              "      }\n",
              "    </script>\n",
              "  </div>\n",
              "\n",
              "\n",
              "<div id=\"df-cdd97bdc-1ca4-4265-9ff7-28ce976c8ec9\">\n",
              "  <button class=\"colab-df-quickchart\" onclick=\"quickchart('df-cdd97bdc-1ca4-4265-9ff7-28ce976c8ec9')\"\n",
              "            title=\"Suggest charts\"\n",
              "            style=\"display:none;\">\n",
              "\n",
              "<svg xmlns=\"http://www.w3.org/2000/svg\" height=\"24px\"viewBox=\"0 0 24 24\"\n",
              "     width=\"24px\">\n",
              "    <g>\n",
              "        <path d=\"M19 3H5c-1.1 0-2 .9-2 2v14c0 1.1.9 2 2 2h14c1.1 0 2-.9 2-2V5c0-1.1-.9-2-2-2zM9 17H7v-7h2v7zm4 0h-2V7h2v10zm4 0h-2v-4h2v4z\"/>\n",
              "    </g>\n",
              "</svg>\n",
              "  </button>\n",
              "\n",
              "<style>\n",
              "  .colab-df-quickchart {\n",
              "      --bg-color: #E8F0FE;\n",
              "      --fill-color: #1967D2;\n",
              "      --hover-bg-color: #E2EBFA;\n",
              "      --hover-fill-color: #174EA6;\n",
              "      --disabled-fill-color: #AAA;\n",
              "      --disabled-bg-color: #DDD;\n",
              "  }\n",
              "\n",
              "  [theme=dark] .colab-df-quickchart {\n",
              "      --bg-color: #3B4455;\n",
              "      --fill-color: #D2E3FC;\n",
              "      --hover-bg-color: #434B5C;\n",
              "      --hover-fill-color: #FFFFFF;\n",
              "      --disabled-bg-color: #3B4455;\n",
              "      --disabled-fill-color: #666;\n",
              "  }\n",
              "\n",
              "  .colab-df-quickchart {\n",
              "    background-color: var(--bg-color);\n",
              "    border: none;\n",
              "    border-radius: 50%;\n",
              "    cursor: pointer;\n",
              "    display: none;\n",
              "    fill: var(--fill-color);\n",
              "    height: 32px;\n",
              "    padding: 0;\n",
              "    width: 32px;\n",
              "  }\n",
              "\n",
              "  .colab-df-quickchart:hover {\n",
              "    background-color: var(--hover-bg-color);\n",
              "    box-shadow: 0 1px 2px rgba(60, 64, 67, 0.3), 0 1px 3px 1px rgba(60, 64, 67, 0.15);\n",
              "    fill: var(--button-hover-fill-color);\n",
              "  }\n",
              "\n",
              "  .colab-df-quickchart-complete:disabled,\n",
              "  .colab-df-quickchart-complete:disabled:hover {\n",
              "    background-color: var(--disabled-bg-color);\n",
              "    fill: var(--disabled-fill-color);\n",
              "    box-shadow: none;\n",
              "  }\n",
              "\n",
              "  .colab-df-spinner {\n",
              "    border: 2px solid var(--fill-color);\n",
              "    border-color: transparent;\n",
              "    border-bottom-color: var(--fill-color);\n",
              "    animation:\n",
              "      spin 1s steps(1) infinite;\n",
              "  }\n",
              "\n",
              "  @keyframes spin {\n",
              "    0% {\n",
              "      border-color: transparent;\n",
              "      border-bottom-color: var(--fill-color);\n",
              "      border-left-color: var(--fill-color);\n",
              "    }\n",
              "    20% {\n",
              "      border-color: transparent;\n",
              "      border-left-color: var(--fill-color);\n",
              "      border-top-color: var(--fill-color);\n",
              "    }\n",
              "    30% {\n",
              "      border-color: transparent;\n",
              "      border-left-color: var(--fill-color);\n",
              "      border-top-color: var(--fill-color);\n",
              "      border-right-color: var(--fill-color);\n",
              "    }\n",
              "    40% {\n",
              "      border-color: transparent;\n",
              "      border-right-color: var(--fill-color);\n",
              "      border-top-color: var(--fill-color);\n",
              "    }\n",
              "    60% {\n",
              "      border-color: transparent;\n",
              "      border-right-color: var(--fill-color);\n",
              "    }\n",
              "    80% {\n",
              "      border-color: transparent;\n",
              "      border-right-color: var(--fill-color);\n",
              "      border-bottom-color: var(--fill-color);\n",
              "    }\n",
              "    90% {\n",
              "      border-color: transparent;\n",
              "      border-bottom-color: var(--fill-color);\n",
              "    }\n",
              "  }\n",
              "</style>\n",
              "\n",
              "  <script>\n",
              "    async function quickchart(key) {\n",
              "      const quickchartButtonEl =\n",
              "        document.querySelector('#' + key + ' button');\n",
              "      quickchartButtonEl.disabled = true;  // To prevent multiple clicks.\n",
              "      quickchartButtonEl.classList.add('colab-df-spinner');\n",
              "      try {\n",
              "        const charts = await google.colab.kernel.invokeFunction(\n",
              "            'suggestCharts', [key], {});\n",
              "      } catch (error) {\n",
              "        console.error('Error during call to suggestCharts:', error);\n",
              "      }\n",
              "      quickchartButtonEl.classList.remove('colab-df-spinner');\n",
              "      quickchartButtonEl.classList.add('colab-df-quickchart-complete');\n",
              "    }\n",
              "    (() => {\n",
              "      let quickchartButtonEl =\n",
              "        document.querySelector('#df-cdd97bdc-1ca4-4265-9ff7-28ce976c8ec9 button');\n",
              "      quickchartButtonEl.style.display =\n",
              "        google.colab.kernel.accessAllowed ? 'block' : 'none';\n",
              "    })();\n",
              "  </script>\n",
              "</div>\n",
              "\n",
              "    </div>\n",
              "  </div>\n"
            ],
            "application/vnd.google.colaboratory.intrinsic+json": {
              "type": "dataframe",
              "variable_name": "wineNoSupervizado",
              "summary": "{\n  \"name\": \"wineNoSupervizado\",\n  \"rows\": 178,\n  \"fields\": [\n    {\n      \"column\": \"alcohol\",\n      \"properties\": {\n        \"dtype\": \"number\",\n        \"std\": 0.8118265380058577,\n        \"min\": 11.03,\n        \"max\": 14.83,\n        \"num_unique_values\": 126,\n        \"samples\": [\n          11.62,\n          13.64,\n          13.69\n        ],\n        \"semantic_type\": \"\",\n        \"description\": \"\"\n      }\n    },\n    {\n      \"column\": \"malic_acid\",\n      \"properties\": {\n        \"dtype\": \"number\",\n        \"std\": 1.1171460976144627,\n        \"min\": 0.74,\n        \"max\": 5.8,\n        \"num_unique_values\": 133,\n        \"samples\": [\n          1.21,\n          2.83,\n          1.8\n        ],\n        \"semantic_type\": \"\",\n        \"description\": \"\"\n      }\n    },\n    {\n      \"column\": \"ash\",\n      \"properties\": {\n        \"dtype\": \"number\",\n        \"std\": 0.2743440090608148,\n        \"min\": 1.36,\n        \"max\": 3.23,\n        \"num_unique_values\": 79,\n        \"samples\": [\n          2.31,\n          2.43,\n          2.52\n        ],\n        \"semantic_type\": \"\",\n        \"description\": \"\"\n      }\n    },\n    {\n      \"column\": \"alcalinity_of_ash\",\n      \"properties\": {\n        \"dtype\": \"number\",\n        \"std\": 3.3395637671735052,\n        \"min\": 10.6,\n        \"max\": 30.0,\n        \"num_unique_values\": 63,\n        \"samples\": [\n          25.5,\n          28.5,\n          15.6\n        ],\n        \"semantic_type\": \"\",\n        \"description\": \"\"\n      }\n    },\n    {\n      \"column\": \"magnesium\",\n      \"properties\": {\n        \"dtype\": \"number\",\n        \"std\": 14.282483515295668,\n        \"min\": 70.0,\n        \"max\": 162.0,\n        \"num_unique_values\": 53,\n        \"samples\": [\n          126.0,\n          85.0,\n          162.0\n        ],\n        \"semantic_type\": \"\",\n        \"description\": \"\"\n      }\n    },\n    {\n      \"column\": \"total_phenols\",\n      \"properties\": {\n        \"dtype\": \"number\",\n        \"std\": 0.6258510488339891,\n        \"min\": 0.98,\n        \"max\": 3.88,\n        \"num_unique_values\": 97,\n        \"samples\": [\n          1.68,\n          2.11,\n          1.35\n        ],\n        \"semantic_type\": \"\",\n        \"description\": \"\"\n      }\n    },\n    {\n      \"column\": \"flavanoids\",\n      \"properties\": {\n        \"dtype\": \"number\",\n        \"std\": 0.9988586850169465,\n        \"min\": 0.34,\n        \"max\": 5.08,\n        \"num_unique_values\": 132,\n        \"samples\": [\n          3.18,\n          2.5,\n          3.17\n        ],\n        \"semantic_type\": \"\",\n        \"description\": \"\"\n      }\n    },\n    {\n      \"column\": \"nonflavanoid_phenols\",\n      \"properties\": {\n        \"dtype\": \"number\",\n        \"std\": 0.12445334029667939,\n        \"min\": 0.13,\n        \"max\": 0.66,\n        \"num_unique_values\": 39,\n        \"samples\": [\n          0.58,\n          0.41,\n          0.39\n        ],\n        \"semantic_type\": \"\",\n        \"description\": \"\"\n      }\n    },\n    {\n      \"column\": \"proanthocyanins\",\n      \"properties\": {\n        \"dtype\": \"number\",\n        \"std\": 0.5723588626747611,\n        \"min\": 0.41,\n        \"max\": 3.58,\n        \"num_unique_values\": 101,\n        \"samples\": [\n          0.75,\n          1.77,\n          1.42\n        ],\n        \"semantic_type\": \"\",\n        \"description\": \"\"\n      }\n    },\n    {\n      \"column\": \"color_intensity\",\n      \"properties\": {\n        \"dtype\": \"number\",\n        \"std\": 2.318285871822413,\n        \"min\": 1.28,\n        \"max\": 13.0,\n        \"num_unique_values\": 132,\n        \"samples\": [\n          2.95,\n          3.3,\n          5.1\n        ],\n        \"semantic_type\": \"\",\n        \"description\": \"\"\n      }\n    },\n    {\n      \"column\": \"hue\",\n      \"properties\": {\n        \"dtype\": \"number\",\n        \"std\": 0.22857156582982338,\n        \"min\": 0.48,\n        \"max\": 1.71,\n        \"num_unique_values\": 78,\n        \"samples\": [\n          1.22,\n          1.04,\n          1.45\n        ],\n        \"semantic_type\": \"\",\n        \"description\": \"\"\n      }\n    },\n    {\n      \"column\": \"od280/od315_of_diluted_wines\",\n      \"properties\": {\n        \"dtype\": \"number\",\n        \"std\": 0.7099904287650505,\n        \"min\": 1.27,\n        \"max\": 4.0,\n        \"num_unique_values\": 122,\n        \"samples\": [\n          4.0,\n          1.82,\n          1.59\n        ],\n        \"semantic_type\": \"\",\n        \"description\": \"\"\n      }\n    },\n    {\n      \"column\": \"proline\",\n      \"properties\": {\n        \"dtype\": \"number\",\n        \"std\": 314.9074742768489,\n        \"min\": 278.0,\n        \"max\": 1680.0,\n        \"num_unique_values\": 121,\n        \"samples\": [\n          1375.0,\n          1270.0,\n          735.0\n        ],\n        \"semantic_type\": \"\",\n        \"description\": \"\"\n      }\n    }\n  ]\n}"
            }
          },
          "metadata": {},
          "execution_count": 127
        }
      ]
    },
    {
      "cell_type": "markdown",
      "source": [],
      "metadata": {
        "id": "wlWHDg4CMwAT"
      }
    },
    {
      "cell_type": "code",
      "source": [
        "\n",
        "wineNoSupervizado.head()"
      ],
      "metadata": {
        "colab": {
          "base_uri": "https://localhost:8080/",
          "height": 206
        },
        "id": "3GPEuoY-9Y3v",
        "outputId": "460e7f41-2818-420f-9e28-c62c158946ab"
      },
      "execution_count": 128,
      "outputs": [
        {
          "output_type": "execute_result",
          "data": {
            "text/plain": [
              "   alcohol  malic_acid   ash  alcalinity_of_ash  magnesium  total_phenols  \\\n",
              "0    14.23        1.71  2.43               15.6      127.0           2.80   \n",
              "1    13.20        1.78  2.14               11.2      100.0           2.65   \n",
              "2    13.16        2.36  2.67               18.6      101.0           2.80   \n",
              "3    14.37        1.95  2.50               16.8      113.0           3.85   \n",
              "4    13.24        2.59  2.87               21.0      118.0           2.80   \n",
              "\n",
              "   flavanoids  nonflavanoid_phenols  proanthocyanins  color_intensity   hue  \\\n",
              "0        3.06                  0.28             2.29             5.64  1.04   \n",
              "1        2.76                  0.26             1.28             4.38  1.05   \n",
              "2        3.24                  0.30             2.81             5.68  1.03   \n",
              "3        3.49                  0.24             2.18             7.80  0.86   \n",
              "4        2.69                  0.39             1.82             4.32  1.04   \n",
              "\n",
              "   od280/od315_of_diluted_wines  proline  \n",
              "0                          3.92   1065.0  \n",
              "1                          3.40   1050.0  \n",
              "2                          3.17   1185.0  \n",
              "3                          3.45   1480.0  \n",
              "4                          2.93    735.0  "
            ],
            "text/html": [
              "\n",
              "  <div id=\"df-ecfa2270-5d0a-44d0-95b1-5698c9b13c00\" class=\"colab-df-container\">\n",
              "    <div>\n",
              "<style scoped>\n",
              "    .dataframe tbody tr th:only-of-type {\n",
              "        vertical-align: middle;\n",
              "    }\n",
              "\n",
              "    .dataframe tbody tr th {\n",
              "        vertical-align: top;\n",
              "    }\n",
              "\n",
              "    .dataframe thead th {\n",
              "        text-align: right;\n",
              "    }\n",
              "</style>\n",
              "<table border=\"1\" class=\"dataframe\">\n",
              "  <thead>\n",
              "    <tr style=\"text-align: right;\">\n",
              "      <th></th>\n",
              "      <th>alcohol</th>\n",
              "      <th>malic_acid</th>\n",
              "      <th>ash</th>\n",
              "      <th>alcalinity_of_ash</th>\n",
              "      <th>magnesium</th>\n",
              "      <th>total_phenols</th>\n",
              "      <th>flavanoids</th>\n",
              "      <th>nonflavanoid_phenols</th>\n",
              "      <th>proanthocyanins</th>\n",
              "      <th>color_intensity</th>\n",
              "      <th>hue</th>\n",
              "      <th>od280/od315_of_diluted_wines</th>\n",
              "      <th>proline</th>\n",
              "    </tr>\n",
              "  </thead>\n",
              "  <tbody>\n",
              "    <tr>\n",
              "      <th>0</th>\n",
              "      <td>14.23</td>\n",
              "      <td>1.71</td>\n",
              "      <td>2.43</td>\n",
              "      <td>15.6</td>\n",
              "      <td>127.0</td>\n",
              "      <td>2.80</td>\n",
              "      <td>3.06</td>\n",
              "      <td>0.28</td>\n",
              "      <td>2.29</td>\n",
              "      <td>5.64</td>\n",
              "      <td>1.04</td>\n",
              "      <td>3.92</td>\n",
              "      <td>1065.0</td>\n",
              "    </tr>\n",
              "    <tr>\n",
              "      <th>1</th>\n",
              "      <td>13.20</td>\n",
              "      <td>1.78</td>\n",
              "      <td>2.14</td>\n",
              "      <td>11.2</td>\n",
              "      <td>100.0</td>\n",
              "      <td>2.65</td>\n",
              "      <td>2.76</td>\n",
              "      <td>0.26</td>\n",
              "      <td>1.28</td>\n",
              "      <td>4.38</td>\n",
              "      <td>1.05</td>\n",
              "      <td>3.40</td>\n",
              "      <td>1050.0</td>\n",
              "    </tr>\n",
              "    <tr>\n",
              "      <th>2</th>\n",
              "      <td>13.16</td>\n",
              "      <td>2.36</td>\n",
              "      <td>2.67</td>\n",
              "      <td>18.6</td>\n",
              "      <td>101.0</td>\n",
              "      <td>2.80</td>\n",
              "      <td>3.24</td>\n",
              "      <td>0.30</td>\n",
              "      <td>2.81</td>\n",
              "      <td>5.68</td>\n",
              "      <td>1.03</td>\n",
              "      <td>3.17</td>\n",
              "      <td>1185.0</td>\n",
              "    </tr>\n",
              "    <tr>\n",
              "      <th>3</th>\n",
              "      <td>14.37</td>\n",
              "      <td>1.95</td>\n",
              "      <td>2.50</td>\n",
              "      <td>16.8</td>\n",
              "      <td>113.0</td>\n",
              "      <td>3.85</td>\n",
              "      <td>3.49</td>\n",
              "      <td>0.24</td>\n",
              "      <td>2.18</td>\n",
              "      <td>7.80</td>\n",
              "      <td>0.86</td>\n",
              "      <td>3.45</td>\n",
              "      <td>1480.0</td>\n",
              "    </tr>\n",
              "    <tr>\n",
              "      <th>4</th>\n",
              "      <td>13.24</td>\n",
              "      <td>2.59</td>\n",
              "      <td>2.87</td>\n",
              "      <td>21.0</td>\n",
              "      <td>118.0</td>\n",
              "      <td>2.80</td>\n",
              "      <td>2.69</td>\n",
              "      <td>0.39</td>\n",
              "      <td>1.82</td>\n",
              "      <td>4.32</td>\n",
              "      <td>1.04</td>\n",
              "      <td>2.93</td>\n",
              "      <td>735.0</td>\n",
              "    </tr>\n",
              "  </tbody>\n",
              "</table>\n",
              "</div>\n",
              "    <div class=\"colab-df-buttons\">\n",
              "\n",
              "  <div class=\"colab-df-container\">\n",
              "    <button class=\"colab-df-convert\" onclick=\"convertToInteractive('df-ecfa2270-5d0a-44d0-95b1-5698c9b13c00')\"\n",
              "            title=\"Convert this dataframe to an interactive table.\"\n",
              "            style=\"display:none;\">\n",
              "\n",
              "  <svg xmlns=\"http://www.w3.org/2000/svg\" height=\"24px\" viewBox=\"0 -960 960 960\">\n",
              "    <path d=\"M120-120v-720h720v720H120Zm60-500h600v-160H180v160Zm220 220h160v-160H400v160Zm0 220h160v-160H400v160ZM180-400h160v-160H180v160Zm440 0h160v-160H620v160ZM180-180h160v-160H180v160Zm440 0h160v-160H620v160Z\"/>\n",
              "  </svg>\n",
              "    </button>\n",
              "\n",
              "  <style>\n",
              "    .colab-df-container {\n",
              "      display:flex;\n",
              "      gap: 12px;\n",
              "    }\n",
              "\n",
              "    .colab-df-convert {\n",
              "      background-color: #E8F0FE;\n",
              "      border: none;\n",
              "      border-radius: 50%;\n",
              "      cursor: pointer;\n",
              "      display: none;\n",
              "      fill: #1967D2;\n",
              "      height: 32px;\n",
              "      padding: 0 0 0 0;\n",
              "      width: 32px;\n",
              "    }\n",
              "\n",
              "    .colab-df-convert:hover {\n",
              "      background-color: #E2EBFA;\n",
              "      box-shadow: 0px 1px 2px rgba(60, 64, 67, 0.3), 0px 1px 3px 1px rgba(60, 64, 67, 0.15);\n",
              "      fill: #174EA6;\n",
              "    }\n",
              "\n",
              "    .colab-df-buttons div {\n",
              "      margin-bottom: 4px;\n",
              "    }\n",
              "\n",
              "    [theme=dark] .colab-df-convert {\n",
              "      background-color: #3B4455;\n",
              "      fill: #D2E3FC;\n",
              "    }\n",
              "\n",
              "    [theme=dark] .colab-df-convert:hover {\n",
              "      background-color: #434B5C;\n",
              "      box-shadow: 0px 1px 3px 1px rgba(0, 0, 0, 0.15);\n",
              "      filter: drop-shadow(0px 1px 2px rgba(0, 0, 0, 0.3));\n",
              "      fill: #FFFFFF;\n",
              "    }\n",
              "  </style>\n",
              "\n",
              "    <script>\n",
              "      const buttonEl =\n",
              "        document.querySelector('#df-ecfa2270-5d0a-44d0-95b1-5698c9b13c00 button.colab-df-convert');\n",
              "      buttonEl.style.display =\n",
              "        google.colab.kernel.accessAllowed ? 'block' : 'none';\n",
              "\n",
              "      async function convertToInteractive(key) {\n",
              "        const element = document.querySelector('#df-ecfa2270-5d0a-44d0-95b1-5698c9b13c00');\n",
              "        const dataTable =\n",
              "          await google.colab.kernel.invokeFunction('convertToInteractive',\n",
              "                                                    [key], {});\n",
              "        if (!dataTable) return;\n",
              "\n",
              "        const docLinkHtml = 'Like what you see? Visit the ' +\n",
              "          '<a target=\"_blank\" href=https://colab.research.google.com/notebooks/data_table.ipynb>data table notebook</a>'\n",
              "          + ' to learn more about interactive tables.';\n",
              "        element.innerHTML = '';\n",
              "        dataTable['output_type'] = 'display_data';\n",
              "        await google.colab.output.renderOutput(dataTable, element);\n",
              "        const docLink = document.createElement('div');\n",
              "        docLink.innerHTML = docLinkHtml;\n",
              "        element.appendChild(docLink);\n",
              "      }\n",
              "    </script>\n",
              "  </div>\n",
              "\n",
              "\n",
              "<div id=\"df-24ee7249-bb05-4475-af80-5f86f65cf35b\">\n",
              "  <button class=\"colab-df-quickchart\" onclick=\"quickchart('df-24ee7249-bb05-4475-af80-5f86f65cf35b')\"\n",
              "            title=\"Suggest charts\"\n",
              "            style=\"display:none;\">\n",
              "\n",
              "<svg xmlns=\"http://www.w3.org/2000/svg\" height=\"24px\"viewBox=\"0 0 24 24\"\n",
              "     width=\"24px\">\n",
              "    <g>\n",
              "        <path d=\"M19 3H5c-1.1 0-2 .9-2 2v14c0 1.1.9 2 2 2h14c1.1 0 2-.9 2-2V5c0-1.1-.9-2-2-2zM9 17H7v-7h2v7zm4 0h-2V7h2v10zm4 0h-2v-4h2v4z\"/>\n",
              "    </g>\n",
              "</svg>\n",
              "  </button>\n",
              "\n",
              "<style>\n",
              "  .colab-df-quickchart {\n",
              "      --bg-color: #E8F0FE;\n",
              "      --fill-color: #1967D2;\n",
              "      --hover-bg-color: #E2EBFA;\n",
              "      --hover-fill-color: #174EA6;\n",
              "      --disabled-fill-color: #AAA;\n",
              "      --disabled-bg-color: #DDD;\n",
              "  }\n",
              "\n",
              "  [theme=dark] .colab-df-quickchart {\n",
              "      --bg-color: #3B4455;\n",
              "      --fill-color: #D2E3FC;\n",
              "      --hover-bg-color: #434B5C;\n",
              "      --hover-fill-color: #FFFFFF;\n",
              "      --disabled-bg-color: #3B4455;\n",
              "      --disabled-fill-color: #666;\n",
              "  }\n",
              "\n",
              "  .colab-df-quickchart {\n",
              "    background-color: var(--bg-color);\n",
              "    border: none;\n",
              "    border-radius: 50%;\n",
              "    cursor: pointer;\n",
              "    display: none;\n",
              "    fill: var(--fill-color);\n",
              "    height: 32px;\n",
              "    padding: 0;\n",
              "    width: 32px;\n",
              "  }\n",
              "\n",
              "  .colab-df-quickchart:hover {\n",
              "    background-color: var(--hover-bg-color);\n",
              "    box-shadow: 0 1px 2px rgba(60, 64, 67, 0.3), 0 1px 3px 1px rgba(60, 64, 67, 0.15);\n",
              "    fill: var(--button-hover-fill-color);\n",
              "  }\n",
              "\n",
              "  .colab-df-quickchart-complete:disabled,\n",
              "  .colab-df-quickchart-complete:disabled:hover {\n",
              "    background-color: var(--disabled-bg-color);\n",
              "    fill: var(--disabled-fill-color);\n",
              "    box-shadow: none;\n",
              "  }\n",
              "\n",
              "  .colab-df-spinner {\n",
              "    border: 2px solid var(--fill-color);\n",
              "    border-color: transparent;\n",
              "    border-bottom-color: var(--fill-color);\n",
              "    animation:\n",
              "      spin 1s steps(1) infinite;\n",
              "  }\n",
              "\n",
              "  @keyframes spin {\n",
              "    0% {\n",
              "      border-color: transparent;\n",
              "      border-bottom-color: var(--fill-color);\n",
              "      border-left-color: var(--fill-color);\n",
              "    }\n",
              "    20% {\n",
              "      border-color: transparent;\n",
              "      border-left-color: var(--fill-color);\n",
              "      border-top-color: var(--fill-color);\n",
              "    }\n",
              "    30% {\n",
              "      border-color: transparent;\n",
              "      border-left-color: var(--fill-color);\n",
              "      border-top-color: var(--fill-color);\n",
              "      border-right-color: var(--fill-color);\n",
              "    }\n",
              "    40% {\n",
              "      border-color: transparent;\n",
              "      border-right-color: var(--fill-color);\n",
              "      border-top-color: var(--fill-color);\n",
              "    }\n",
              "    60% {\n",
              "      border-color: transparent;\n",
              "      border-right-color: var(--fill-color);\n",
              "    }\n",
              "    80% {\n",
              "      border-color: transparent;\n",
              "      border-right-color: var(--fill-color);\n",
              "      border-bottom-color: var(--fill-color);\n",
              "    }\n",
              "    90% {\n",
              "      border-color: transparent;\n",
              "      border-bottom-color: var(--fill-color);\n",
              "    }\n",
              "  }\n",
              "</style>\n",
              "\n",
              "  <script>\n",
              "    async function quickchart(key) {\n",
              "      const quickchartButtonEl =\n",
              "        document.querySelector('#' + key + ' button');\n",
              "      quickchartButtonEl.disabled = true;  // To prevent multiple clicks.\n",
              "      quickchartButtonEl.classList.add('colab-df-spinner');\n",
              "      try {\n",
              "        const charts = await google.colab.kernel.invokeFunction(\n",
              "            'suggestCharts', [key], {});\n",
              "      } catch (error) {\n",
              "        console.error('Error during call to suggestCharts:', error);\n",
              "      }\n",
              "      quickchartButtonEl.classList.remove('colab-df-spinner');\n",
              "      quickchartButtonEl.classList.add('colab-df-quickchart-complete');\n",
              "    }\n",
              "    (() => {\n",
              "      let quickchartButtonEl =\n",
              "        document.querySelector('#df-24ee7249-bb05-4475-af80-5f86f65cf35b button');\n",
              "      quickchartButtonEl.style.display =\n",
              "        google.colab.kernel.accessAllowed ? 'block' : 'none';\n",
              "    })();\n",
              "  </script>\n",
              "</div>\n",
              "\n",
              "    </div>\n",
              "  </div>\n"
            ],
            "application/vnd.google.colaboratory.intrinsic+json": {
              "type": "dataframe",
              "variable_name": "wineNoSupervizado",
              "summary": "{\n  \"name\": \"wineNoSupervizado\",\n  \"rows\": 178,\n  \"fields\": [\n    {\n      \"column\": \"alcohol\",\n      \"properties\": {\n        \"dtype\": \"number\",\n        \"std\": 0.8118265380058577,\n        \"min\": 11.03,\n        \"max\": 14.83,\n        \"num_unique_values\": 126,\n        \"samples\": [\n          11.62,\n          13.64,\n          13.69\n        ],\n        \"semantic_type\": \"\",\n        \"description\": \"\"\n      }\n    },\n    {\n      \"column\": \"malic_acid\",\n      \"properties\": {\n        \"dtype\": \"number\",\n        \"std\": 1.1171460976144627,\n        \"min\": 0.74,\n        \"max\": 5.8,\n        \"num_unique_values\": 133,\n        \"samples\": [\n          1.21,\n          2.83,\n          1.8\n        ],\n        \"semantic_type\": \"\",\n        \"description\": \"\"\n      }\n    },\n    {\n      \"column\": \"ash\",\n      \"properties\": {\n        \"dtype\": \"number\",\n        \"std\": 0.2743440090608148,\n        \"min\": 1.36,\n        \"max\": 3.23,\n        \"num_unique_values\": 79,\n        \"samples\": [\n          2.31,\n          2.43,\n          2.52\n        ],\n        \"semantic_type\": \"\",\n        \"description\": \"\"\n      }\n    },\n    {\n      \"column\": \"alcalinity_of_ash\",\n      \"properties\": {\n        \"dtype\": \"number\",\n        \"std\": 3.3395637671735052,\n        \"min\": 10.6,\n        \"max\": 30.0,\n        \"num_unique_values\": 63,\n        \"samples\": [\n          25.5,\n          28.5,\n          15.6\n        ],\n        \"semantic_type\": \"\",\n        \"description\": \"\"\n      }\n    },\n    {\n      \"column\": \"magnesium\",\n      \"properties\": {\n        \"dtype\": \"number\",\n        \"std\": 14.282483515295668,\n        \"min\": 70.0,\n        \"max\": 162.0,\n        \"num_unique_values\": 53,\n        \"samples\": [\n          126.0,\n          85.0,\n          162.0\n        ],\n        \"semantic_type\": \"\",\n        \"description\": \"\"\n      }\n    },\n    {\n      \"column\": \"total_phenols\",\n      \"properties\": {\n        \"dtype\": \"number\",\n        \"std\": 0.6258510488339891,\n        \"min\": 0.98,\n        \"max\": 3.88,\n        \"num_unique_values\": 97,\n        \"samples\": [\n          1.68,\n          2.11,\n          1.35\n        ],\n        \"semantic_type\": \"\",\n        \"description\": \"\"\n      }\n    },\n    {\n      \"column\": \"flavanoids\",\n      \"properties\": {\n        \"dtype\": \"number\",\n        \"std\": 0.9988586850169465,\n        \"min\": 0.34,\n        \"max\": 5.08,\n        \"num_unique_values\": 132,\n        \"samples\": [\n          3.18,\n          2.5,\n          3.17\n        ],\n        \"semantic_type\": \"\",\n        \"description\": \"\"\n      }\n    },\n    {\n      \"column\": \"nonflavanoid_phenols\",\n      \"properties\": {\n        \"dtype\": \"number\",\n        \"std\": 0.12445334029667939,\n        \"min\": 0.13,\n        \"max\": 0.66,\n        \"num_unique_values\": 39,\n        \"samples\": [\n          0.58,\n          0.41,\n          0.39\n        ],\n        \"semantic_type\": \"\",\n        \"description\": \"\"\n      }\n    },\n    {\n      \"column\": \"proanthocyanins\",\n      \"properties\": {\n        \"dtype\": \"number\",\n        \"std\": 0.5723588626747611,\n        \"min\": 0.41,\n        \"max\": 3.58,\n        \"num_unique_values\": 101,\n        \"samples\": [\n          0.75,\n          1.77,\n          1.42\n        ],\n        \"semantic_type\": \"\",\n        \"description\": \"\"\n      }\n    },\n    {\n      \"column\": \"color_intensity\",\n      \"properties\": {\n        \"dtype\": \"number\",\n        \"std\": 2.318285871822413,\n        \"min\": 1.28,\n        \"max\": 13.0,\n        \"num_unique_values\": 132,\n        \"samples\": [\n          2.95,\n          3.3,\n          5.1\n        ],\n        \"semantic_type\": \"\",\n        \"description\": \"\"\n      }\n    },\n    {\n      \"column\": \"hue\",\n      \"properties\": {\n        \"dtype\": \"number\",\n        \"std\": 0.22857156582982338,\n        \"min\": 0.48,\n        \"max\": 1.71,\n        \"num_unique_values\": 78,\n        \"samples\": [\n          1.22,\n          1.04,\n          1.45\n        ],\n        \"semantic_type\": \"\",\n        \"description\": \"\"\n      }\n    },\n    {\n      \"column\": \"od280/od315_of_diluted_wines\",\n      \"properties\": {\n        \"dtype\": \"number\",\n        \"std\": 0.7099904287650505,\n        \"min\": 1.27,\n        \"max\": 4.0,\n        \"num_unique_values\": 122,\n        \"samples\": [\n          4.0,\n          1.82,\n          1.59\n        ],\n        \"semantic_type\": \"\",\n        \"description\": \"\"\n      }\n    },\n    {\n      \"column\": \"proline\",\n      \"properties\": {\n        \"dtype\": \"number\",\n        \"std\": 314.9074742768489,\n        \"min\": 278.0,\n        \"max\": 1680.0,\n        \"num_unique_values\": 121,\n        \"samples\": [\n          1375.0,\n          1270.0,\n          735.0\n        ],\n        \"semantic_type\": \"\",\n        \"description\": \"\"\n      }\n    }\n  ]\n}"
            }
          },
          "metadata": {},
          "execution_count": 128
        }
      ]
    },
    {
      "cell_type": "code",
      "source": [
        "#Voy a normalizar haciendo z-score\n",
        "\n",
        "\n",
        "wineNoSupervizadoNormalizado = StandardScaler().fit_transform(wineNoSupervizado)\n",
        "\n"
      ],
      "metadata": {
        "id": "3iehWcPJOl24"
      },
      "execution_count": 129,
      "outputs": []
    },
    {
      "cell_type": "code",
      "source": [
        "##Ahora calculo la matriz de covarianza y sus autovalores y autovectores y los ordeno.\n",
        "\n",
        "\n",
        "# Calcular la matriz de covarianza\n",
        "cov_matrix = np.cov(wineNoSupervizadoNormalizado, rowvar=False)\n",
        "\n",
        "# Calcular autovalores y autovectores\n",
        "eigenvalues, eigenvectors = np.linalg.eig(cov_matrix)\n",
        "\n",
        "# Los ordeno de mayor a menor\n",
        "idx = eigenvalues.argsort()[::-1]\n",
        "eigenvalues = eigenvalues[idx]\n",
        "eigenvectors = eigenvectors[:, idx]"
      ],
      "metadata": {
        "id": "K1j8_ep8dSNy"
      },
      "execution_count": 130,
      "outputs": []
    },
    {
      "cell_type": "markdown",
      "source": [
        "Antes de realizar PCA quiero ver cuánta información se pierde en función de la cantidad de autovectores escojidos."
      ],
      "metadata": {
        "id": "amnqZTSdevur"
      }
    },
    {
      "cell_type": "code",
      "source": [
        "# 6. Calcular varianza explicada e información perdida\n",
        "varianza_explicada = eigenvalues / np.sum(eigenvalues)\n",
        "varianza_acumulada = np.cumsum(varianza_explicada)\n",
        "informacion_perdida = (1 - varianza_acumulada[k-1]) * 100"
      ],
      "metadata": {
        "id": "VnZzc3cde4fX"
      },
      "execution_count": 131,
      "outputs": []
    },
    {
      "cell_type": "code",
      "source": [
        "plt.figure(figsize=(8, 6))\n",
        "plt.bar(range(1, 5), varianza_acumulada[:4], alpha=0.7)\n",
        "plt.xlabel('Número de componentes')\n",
        "plt.ylabel('Varianza acumulada explicada')\n",
        "plt.axhline(y=0.5, color='r', linestyle='-')  # Línea de referencia (95%)\n",
        "plt.xticks(range(1, 5))\n",
        "plt.grid(True, alpha=0.3)\n",
        "plt.text(3.1, 0.51, '50% de varianza explicada', color='red', fontsize=10)\n"
      ],
      "metadata": {
        "colab": {
          "base_uri": "https://localhost:8080/",
          "height": 560
        },
        "id": "YAm0fMpkfRSL",
        "outputId": "133caf64-7a83-4192-d1a6-273aeb5c8a77"
      },
      "execution_count": 132,
      "outputs": [
        {
          "output_type": "execute_result",
          "data": {
            "text/plain": [
              "Text(3.1, 0.51, '50% de varianza explicada')"
            ]
          },
          "metadata": {},
          "execution_count": 132
        },
        {
          "output_type": "display_data",
          "data": {
            "text/plain": [
              "<Figure size 800x600 with 1 Axes>"
            ],
            "image/png": "[encoded data removed]"
          },
          "metadata": {}
        }
      ]
    },
    {
      "cell_type": "markdown",
      "source": [
        "Noto que con 2 componentes principales se preserva aproximadamente el 50% de la varianza total del conjunto de datos. Verificaré el valor exacto de la varianza acumulada explicada.\n",
        "\n",
        "Ahora me fijo exactamente cuánto mantiene."
      ],
      "metadata": {
        "id": "I9RZoylWpiyZ"
      }
    },
    {
      "cell_type": "code",
      "source": [
        "varianza_comp_2 = varianza_acumulada[1]\n",
        "\n",
        "# Conversión a porcentaje\n",
        "porcentaje_varianza = varianza_comp_2 * 100\n",
        "\n",
        "# Imprimir los resultados en formato más detallado\n",
        "print(\"La varianza explicada con 2 componentes es \" + str(round(porcentaje_varianza, 2)) + \"%.\")\n"
      ],
      "metadata": {
        "colab": {
          "base_uri": "https://localhost:8080/"
        },
        "id": "jU7JZjwlp3VW",
        "outputId": "6f60884e-003c-47c7-9bcd-6a14914d0a23"
      },
      "execution_count": 133,
      "outputs": [
        {
          "output_type": "stream",
          "name": "stdout",
          "text": [
            "La varianza explicada con 2 componentes es 55.41%.\n"
          ]
        }
      ]
    },
    {
      "cell_type": "code",
      "source": [
        "#Escojo la cantidad de valores principales y los proyecto\n",
        "k = 2  # o el número deseado\n",
        "cantidadDeComponentes = eigenvectors[:, :k]\n",
        "\n",
        "proyeccion = np.dot(wineNoSupervizadoNormalizado, cantidadDeComponentes)"
      ],
      "metadata": {
        "id": "LlL7jKsAdyfb"
      },
      "execution_count": 134,
      "outputs": []
    },
    {
      "cell_type": "markdown",
      "source": [
        "Ahora veo que tanto impacta en cada componente principal los distintos atributos."
      ],
      "metadata": {
        "id": "ehxoW5wzuLzF"
      }
    },
    {
      "cell_type": "code",
      "source": [],
      "metadata": {
        "id": "JyorQEspuG5m"
      },
      "execution_count": 134,
      "outputs": []
    },
    {
      "cell_type": "code",
      "source": [
        "# Calcular contribución normalizada (porcentaje) de cada variable a cada componente principal\n",
        "# Los coeficientes al cuadrado representan la proporción de varianza explicada por cada variable\n",
        "contrib_comp1 = eigenvectors[:, 0]**2\n",
        "\n",
        "contrib_comp1 = contrib_comp1 / np.sum(contrib_comp1) * 100\n",
        "\n",
        "contrib_comp2 = eigenvectors[:, 1]**2\n",
        "contrib_comp2 = contrib_comp2 / np.sum(contrib_comp2) * 100\n",
        "\n",
        "feature_names = ['Alcohol', 'Malic Acid', 'Ash', 'Alcalinity of Ash', 'Magnesium',\n",
        "                'Total Phenols', 'Flavanoids', 'Nonflavanoid Phenols',\n",
        "                'Proanthocyanins', 'Color Intensity', 'Hue',\n",
        "                'OD280/OD315 of Diluted Wines', 'Proline']  # Ajustado para el dataset de vino\n",
        "\n",
        "print(\"Contribución de cada variable a la primera componente principal:\")\n",
        "for i in range(len(feature_names)):\n",
        "    print(\"- \" + feature_names[i] + \": \" + str(round(contrib_comp1[i], 2)) + \"%\")\n",
        "\n",
        "print(\"\\nContribución de cada variable a la segunda componente principal:\")\n",
        "for i in range(len(feature_names)):\n",
        "    print(\"- \" + feature_names[i] + \": \" + str(round(contrib_comp2[i], 2)) + \"%\")"
      ],
      "metadata": {
        "colab": {
          "base_uri": "https://localhost:8080/"
        },
        "id": "1kdGwgC3tbXI",
        "outputId": "266b231a-07fa-40bc-d083-3cca81bf5cd0"
      },
      "execution_count": 135,
      "outputs": [
        {
          "output_type": "stream",
          "name": "stdout",
          "text": [
            "Contribución de cada variable a la primera componente principal:\n",
            "- Alcohol: 2.08%\n",
            "- Malic Acid: 6.01%\n",
            "- Ash: 0.0%\n",
            "- Alcalinity of Ash: 5.73%\n",
            "- Magnesium: 2.02%\n",
            "- Total Phenols: 15.58%\n",
            "- Flavanoids: 17.89%\n",
            "- Nonflavanoid Phenols: 8.91%\n",
            "- Proanthocyanins: 9.82%\n",
            "- Color Intensity: 0.79%\n",
            "- Hue: 8.8%\n",
            "- OD280/OD315 of Diluted Wines: 14.15%\n",
            "- Proline: 8.22%\n",
            "\n",
            "Contribución de cada variable a la segunda componente principal:\n",
            "- Alcohol: 23.39%\n",
            "- Malic Acid: 5.06%\n",
            "- Ash: 9.99%\n",
            "- Alcalinity of Ash: 0.01%\n",
            "- Magnesium: 8.98%\n",
            "- Total Phenols: 0.42%\n",
            "- Flavanoids: 0.0%\n",
            "- Nonflavanoid Phenols: 0.08%\n",
            "- Proanthocyanins: 0.15%\n",
            "- Color Intensity: 28.09%\n",
            "- Hue: 7.8%\n",
            "- OD280/OD315 of Diluted Wines: 2.71%\n",
            "- Proline: 13.32%\n"
          ]
        }
      ]
    },
    {
      "cell_type": "markdown",
      "source": [
        "La primera componente principal está principalmente explicada por Flavanoids (17.89%), Total Phenols (15.58%), OD280/OD315 of Diluted Wines (14.15%), Proanthocyanins (9.82%) y Nonflavanoid Phenols (8.91%).\n",
        "\n",
        "La segunda componente principal está principalmente explicada por Color Intensity (28.09%), Alcohol (23.39%), Proline (13.32%), Ash (9.99%) y Magnesium (8.98%)."
      ],
      "metadata": {
        "id": "e07wTS4mur8o"
      }
    },
    {
      "cell_type": "code",
      "source": [
        "plt.figure(figsize=(10, 8))\n",
        "plt.scatter(proyeccion[:, 0], proyeccion[:, 1], alpha=0.8)\n",
        "plt.grid(True)\n",
        "plt.xlabel('Primera Componente Principal')\n",
        "plt.ylabel('Segunda Componente Principal')\n",
        "plt.title('Proyección de datos en las 2 Componentes Principales')\n",
        "\n",
        "plt.axhline(y=0, color='k', linestyle='-', alpha=0.3)\n",
        "plt.axvline(x=0, color='k', linestyle='-', alpha=0.3)\n",
        "\n",
        "plt.tight_layout()\n",
        "plt.show()"
      ],
      "metadata": {
        "colab": {
          "base_uri": "https://localhost:8080/",
          "height": 807
        },
        "id": "LVE7wCvdeUn3",
        "outputId": "4ef78075-2de1-4654-be14-b458e899c670"
      },
      "execution_count": 136,
      "outputs": [
        {
          "output_type": "display_data",
          "data": {
            "text/plain": [
              "<Figure size 1000x800 with 1 Axes>"
            ],
            "image/png": "[encoded data removed]"
          },
          "metadata": {}
        }
      ]
    },
    {
      "cell_type": "markdown",
      "source": [
        "Ahora que tenemos la imagen proyectada, vamos a usar k-Means, escogiendo que K sea igual a 3."
      ],
      "metadata": {
        "id": "cBr06qEzrsG6"
      }
    },
    {
      "cell_type": "code",
      "source": [
        "from sklearn.cluster import KMeans\n",
        "import matplotlib.pyplot as plt\n",
        "\n",
        "# Aplicar K-means con K=3\n",
        "kmeans = KMeans(n_clusters=3, random_state=42)\n",
        "cluster_labels = kmeans.fit_predict(proyeccion)\n",
        "\n",
        "# Visualizar resultados\n",
        "plt.figure(figsize=(10, 8))\n",
        "plt.scatter(proyeccion[:, 0], proyeccion[:, 1], c=cluster_labels, cmap='viridis', alpha=0.8)\n",
        "plt.scatter(kmeans.cluster_centers_[:, 0], kmeans.cluster_centers_[:, 1],\n",
        "            c='red', marker='X', s=200, label='Centroides')\n",
        "plt.grid(True)\n",
        "plt.xlabel('CP1')\n",
        "plt.ylabel('CP2')\n",
        "plt.title('K-means (K=3)')\n",
        "plt.legend()\n",
        "plt.show()"
      ],
      "metadata": {
        "colab": {
          "base_uri": "https://localhost:8080/",
          "height": 718
        },
        "id": "YVV0bsScrMob",
        "outputId": "93c8d14b-e8b5-41fa-96e1-4419c4dc75de"
      },
      "execution_count": 137,
      "outputs": [
        {
          "output_type": "display_data",
          "data": {
            "text/plain": [
              "<Figure size 1000x800 with 1 Axes>"
            ],
            "image/png": "[encoded data removed]"
          },
          "metadata": {}
        }
      ]
    },
    {
      "cell_type": "code",
      "source": [],
      "metadata": {
        "id": "1sBtlvDfryYE"
      },
      "execution_count": 137,
      "outputs": []
    },
    {
      "cell_type": "code",
      "source": [
        "# Obtener todas las etiquetas únicas de especies\n",
        "all_species = sorted(df['species'].unique())\n",
        "print(f\"Etiquetas únicas: {all_species}\")\n",
        "\n",
        "class_names = {\n",
        "    'class_0': 'Barolo',\n",
        "    'class_1': 'Grignolino',\n",
        "    'class_2': 'Barbera'\n",
        "}\n",
        "\n",
        "# Crear dataframe con todas las especies\n",
        "result = pd.DataFrame(index=all_species)\n",
        "\n",
        "# Para cada cluster\n",
        "for cluster_id in range(3):  # K=3 explícitamente\n",
        "    # Inicializar columna para este cluster con ceros\n",
        "    result[f'Cluster {cluster_id}'] = 0\n",
        "\n",
        "    # Obtener índices de las muestras en este cluster\n",
        "    cluster_indices = np.where(cluster_labels == cluster_id)[0]\n",
        "\n",
        "    # Contar especies en este cluster\n",
        "    for species in all_species:\n",
        "        count = sum(df['species'].iloc[cluster_indices] == species)\n",
        "        result.loc[species, f'Cluster {cluster_id}'] = count\n",
        "\n",
        "result.index = result.index.map(lambda x: class_names.get(x, x))\n",
        "\n",
        "print(result)"
      ],
      "metadata": {
        "colab": {
          "base_uri": "https://localhost:8080/"
        },
        "id": "XzmCynBAwmlJ",
        "outputId": "da64776f-ec76-4215-ffd0-0d942e5e9335"
      },
      "execution_count": 138,
      "outputs": [
        {
          "output_type": "stream",
          "name": "stdout",
          "text": [
            "Etiquetas únicas: ['class_0', 'class_1', 'class_2']\n",
            "            Cluster 0  Cluster 1  Cluster 2\n",
            "Barolo              1          0         58\n",
            "Grignolino         66          2          3\n",
            "Barbera             0         48          0\n"
          ]
        }
      ]
    },
    {
      "cell_type": "markdown",
      "source": [
        "Por lo que vemos, claramente el Cluster 0 cataloga a la especie Grgnolino, el Cluster 1 a la espacie Barbera y el Cluster 2 a la especie Barolo.\n",
        "\n",
        "\n",
        "Dado que en verdad los datos estaban etiquetados vamos a presentar las distints métricas, accuracy_score, precision_score, recall_score, f1_score, classification_report, cohen_kappa_score"
      ],
      "metadata": {
        "id": "oPZtFsZO5HLm"
      }
    },
    {
      "cell_type": "code",
      "source": [
        "# Reconstruir las etiquetas verdaderas y predichas a partir de la matriz de confusión\n",
        "# La matriz de confusión proporcionada:\n",
        "conf_matrix = np.array([\n",
        "    [1, 0, 58],    # Barolo (filas son verdaderas etiquetas)\n",
        "    [66, 2, 3],    # Grignolino\n",
        "    [0, 48, 0]     # Barbera\n",
        "])\n",
        "\n",
        "# Mapeo según tu asignación:\n",
        "# Cluster 0 = Grignolino (índice 1)\n",
        "# Cluster 1 = Barbera (índice 2)\n",
        "# Cluster 2 = Barolo (índice 0)\n",
        "\n",
        "# Reconstruir etiquetas verdaderas y predichas\n",
        "y_true = []\n",
        "y_pred = []\n",
        "\n",
        "# Nombres de las clases\n",
        "class_names = ['Barolo', 'Grignolino', 'Barbera']\n",
        "\n",
        "# Recorrer la matriz de confusión para reconstruir las etiquetas\n",
        "for true_idx, row in enumerate(conf_matrix):\n",
        "    for pred_idx, count in enumerate(row):\n",
        "        # Mapeo de índices de cluster a índices de clase\n",
        "        cluster_to_class = {0: 1, 1: 2, 2: 0}  # Este mapeo viene de la asignación dada\n",
        "        mapped_pred_idx = cluster_to_class[pred_idx]\n",
        "\n",
        "        # Añadir las etiquetas tantas veces como indique el recuento\n",
        "        y_true.extend([true_idx] * count)\n",
        "        y_pred.extend([mapped_pred_idx] * count)\n",
        "\n",
        "# Calcular las métricas\n",
        "accuracy = accuracy_score(y_true, y_pred)\n",
        "precision = precision_score(y_true, y_pred, average='weighted')\n",
        "recall = recall_score(y_true, y_pred, average='weighted')\n",
        "f1 = f1_score(y_true, y_pred, average='weighted')\n",
        "kappa = cohen_kappa_score(y_true, y_pred)\n",
        "\n",
        "# Convertir índices a nombres de clase para el informe de clasificación\n",
        "y_true_names = [class_names[i] for i in y_true]\n",
        "y_pred_names = [class_names[i] for i in y_pred]\n",
        "\n",
        "# Imprimir resultados\n",
        "print(\"Accuracy: {:.4f}\".format(accuracy))\n",
        "print(\"Precision (weighted): {:.4f}\".format(precision))\n",
        "print(\"Recall (weighted): {:.4f}\".format(recall))\n",
        "print(\"F1 Score (weighted): {:.4f}\".format(f1))\n",
        "print(\"Cohen's Kappa: {:.4f}\".format(kappa))\n",
        "print(\"\\nInforme de clasificación detallado:\")\n",
        "print(classification_report(y_true_names, y_pred_names))\n",
        "\n",
        "# Reconstruir y mostrar la matriz de confusión reordenada\n",
        "print(\"\\nMatriz de confusión (filas: verdaderos, columnas: predichos):\")\n",
        "remapped_conf_matrix = np.zeros((3, 3), dtype=int)\n",
        "for i in range(3):\n",
        "    for j in range(3):\n",
        "        cluster_to_class = {0: 1, 1: 2, 2: 0}\n",
        "        remapped_conf_matrix[i, cluster_to_class[j]] = conf_matrix[i, j]\n",
        "\n",
        "print(remapped_conf_matrix)"
      ],
      "metadata": {
        "colab": {
          "base_uri": "https://localhost:8080/"
        },
        "id": "np2Clpb-yObe",
        "outputId": "3e1c92f8-befa-49b1-9f89-c4e248e2a565"
      },
      "execution_count": 139,
      "outputs": [
        {
          "output_type": "stream",
          "name": "stdout",
          "text": [
            "Accuracy: 0.9663\n",
            "Precision (weighted): 0.9670\n",
            "Recall (weighted): 0.9663\n",
            "F1 Score (weighted): 0.9661\n",
            "Cohen's Kappa: 0.9490\n",
            "\n",
            "Informe de clasificación detallado:\n",
            "              precision    recall  f1-score   support\n",
            "\n",
            "     Barbera       0.96      1.00      0.98        48\n",
            "      Barolo       0.95      0.98      0.97        59\n",
            "  Grignolino       0.99      0.93      0.96        71\n",
            "\n",
            "    accuracy                           0.97       178\n",
            "   macro avg       0.97      0.97      0.97       178\n",
            "weighted avg       0.97      0.97      0.97       178\n",
            "\n",
            "\n",
            "Matriz de confusión (filas: verdaderos, columnas: predichos):\n",
            "[[58  1  0]\n",
            " [ 3 66  2]\n",
            " [ 0  0 48]]\n"
          ]
        }
      ]
    },
    {
      "cell_type": "markdown",
      "source": [
        "#Enfoque supervizado\n",
        "#Random Forest y red neuronal\n",
        "Se implementó un modelo Random Forest con etiquetado, utilizando el siguiente protocolo metodológico:\n",
        "\n",
        "División del conjunto de datos (80% entrenamiento-validación, 20% prueba)\n",
        "Aplicación de validación cruzada (cross-validation) en el conjunto de entrenamiento\n",
        "Optimización de hiperparámetros mediante búsqueda exhaustiva"
      ],
      "metadata": {
        "id": "4Qih8Wi36CaG"
      }
    },
    {
      "cell_type": "code",
      "source": [
        "wineSupervizado = df\n",
        "print(wineSupervizado.shape[0])\n",
        "\n",
        "wineSupervizado = wineSupervizado.dropna()\n",
        "\n",
        "print(wineSupervizado.shape[0])\n"
      ],
      "metadata": {
        "colab": {
          "base_uri": "https://localhost:8080/"
        },
        "id": "mUkFvmUTzmxA",
        "outputId": "159093b7-052a-42aa-a941-53bebd90d737"
      },
      "execution_count": 140,
      "outputs": [
        {
          "output_type": "stream",
          "name": "stdout",
          "text": [
            "178\n",
            "178\n"
          ]
        }
      ]
    },
    {
      "cell_type": "markdown",
      "source": [
        "División del conjunto de datos.\n"
      ],
      "metadata": {
        "id": "EH7GJaEu72yC"
      }
    },
    {
      "cell_type": "code",
      "source": [
        "np.random.seed(31)\n",
        "\n",
        "wineSupervizado = wineSupervizado.sample(frac=1, random_state=31)"
      ],
      "metadata": {
        "id": "KAIZTIju6xF5"
      },
      "execution_count": 141,
      "outputs": []
    },
    {
      "cell_type": "code",
      "source": [
        "#20% de los datos apra test test\n",
        "X_train, X_test, y_train, y_test = train_test_split(\n",
        "    wineSupervizado.drop('species', axis=1),\n",
        "    wineSupervizado['species'],\n",
        "    test_size=0.2,\n",
        "    random_state=31\n",
        ")"
      ],
      "metadata": {
        "id": "PYWmiWSFLe0T"
      },
      "execution_count": 142,
      "outputs": []
    },
    {
      "cell_type": "code",
      "source": [
        "modelo = RandomForestClassifier(random_state=31)\n",
        "\n",
        "param_grid = {\n",
        "    'n_estimators': [50, 100, 200],\n",
        "    'max_depth': [5, 10, 20, None],\n",
        "    'criterion': ['gini', 'entropy']\n",
        "}"
      ],
      "metadata": {
        "id": "-elv5Xt7QJk9"
      },
      "execution_count": 143,
      "outputs": []
    },
    {
      "cell_type": "code",
      "source": [
        "grid_search = GridSearchCV(\n",
        "    estimator=modelo,\n",
        "    param_grid=param_grid,\n",
        "    cv=5,\n",
        "    scoring='accuracy',\n",
        "    n_jobs=-1,\n",
        "    verbose=1,\n",
        "    return_train_score=True\n",
        ")"
      ],
      "metadata": {
        "id": "yTorGNu9MsYD"
      },
      "execution_count": 144,
      "outputs": []
    },
    {
      "cell_type": "code",
      "source": [
        "#Buscar\n",
        "grid_search.fit(X_train, y_train)\n",
        "print(\"Búsqueda completada.\")\n",
        "\n",
        "#Mejores hiperparámetros encontrados\n",
        "print(\"Mejores hiperparámetros:\")\n",
        "print(grid_search.best_params_)\n",
        "print(f\"Mejor puntuación de validación cruzada: {grid_search.best_score_:.4f}\")"
      ],
      "metadata": {
        "colab": {
          "base_uri": "https://localhost:8080/"
        },
        "id": "2iK8c_G_M9ur",
        "outputId": "d9341838-3893-4b8d-b9d3-b8fba0e67406"
      },
      "execution_count": 145,
      "outputs": [
        {
          "output_type": "stream",
          "name": "stdout",
          "text": [
            "Fitting 5 folds for each of 24 candidates, totalling 120 fits\n",
            "Búsqueda completada.\n",
            "Mejores hiperparámetros:\n",
            "{'criterion': 'gini', 'max_depth': 5, 'n_estimators': 100}\n",
            "Mejor puntuación de validación cruzada: 0.9929\n"
          ]
        }
      ]
    },
    {
      "cell_type": "code",
      "source": [
        "mejor_modelo = grid_search.best_estimator_\n",
        "\n",
        "y_pred = mejor_modelo.predict(X_test)"
      ],
      "metadata": {
        "id": "mCe7MnQeNB-a"
      },
      "execution_count": 146,
      "outputs": []
    },
    {
      "cell_type": "code",
      "source": [
        "accuracy = accuracy_score(y_test, y_pred)\n",
        "print(f\"Accuracy en test: {accuracy:.4f}\")\n",
        "\n",
        "print(\"\\nReporte de clasificación:\")\n",
        "print(classification_report(y_test, y_pred))"
      ],
      "metadata": {
        "colab": {
          "base_uri": "https://localhost:8080/"
        },
        "id": "M-DTX-RYOOxb",
        "outputId": "0db87132-71a8-484f-8a1c-c7e05f725ef3"
      },
      "execution_count": 147,
      "outputs": [
        {
          "output_type": "stream",
          "name": "stdout",
          "text": [
            "Accuracy en test: 0.9444\n",
            "\n",
            "Reporte de clasificación:\n",
            "              precision    recall  f1-score   support\n",
            "\n",
            "     class_0       0.93      1.00      0.96        13\n",
            "     class_1       1.00      0.87      0.93        15\n",
            "     class_2       0.89      1.00      0.94         8\n",
            "\n",
            "    accuracy                           0.94        36\n",
            "   macro avg       0.94      0.96      0.94        36\n",
            "weighted avg       0.95      0.94      0.94        36\n",
            "\n"
          ]
        }
      ]
    },
    {
      "cell_type": "markdown",
      "source": [
        "El modelo tiene una efectividad de 0,9444."
      ],
      "metadata": {
        "id": "GqVGdKz4UQMx"
      }
    },
    {
      "cell_type": "markdown",
      "source": [
        "\n",
        "##Análisis Comparativo de Modelos de Clasificación para Identificación de Vinos Metodología y Resultados\n",
        "\n",
        "En este proyecto se implementaron dos enfoques distintos para la clasificación de vinos:\n",
        "### Enfoque No Supervisado\n",
        "Inicialmente, se desarrolló un modelo de clasificación utilizando técnicas no supervisadas, específicamente k-means en combinación con análisis de componentes principales (PCA). Este enfoque, que prescindió deliberadamente de las etiquetas de clase durante el entrenamiento, alcanzó una efectividad del 96% en el conjunto de evaluación.\n",
        "\n",
        "###  Enfoque Supervisado\n",
        "Posteriormente, se implementó un modelo Random Forest completamente supervisado, utilizando el siguiente protocolo metodológico:\n",
        "\n",
        "División del conjunto de datos (80% entrenamiento-validación, 20% prueba)\n",
        "Aplicación de validación cruzada (cross-validation) en el conjunto de entrenamiento\n",
        "\n",
        "Optimización de hiperparámetros mediante búsqueda exhaustiva\n",
        "\n",
        "El modelo supervisado tiene una efectividad inferior  0,944 evaluado en el conjunto de prueba independiente."
      ],
      "metadata": {
        "id": "4xkZYj8bU8iz"
      }
    },
    {
      "cell_type": "markdown",
      "source": [
        "### Conclusiones\n",
        "La comparación entre ambos enfoques revela un hallazgo interesante: la estructura intrínseca de los datos (captada por el modelo no supervisado) refleja casi perfectamente la clasificación establecida externamente. Las características químicas analizadas poseen un alto poder discriminativo, permitiendo separar eficazmente las clases incluso sin conocimiento previo de las etiquetas. La estructura natural de agrupamiento en los datos se alinea extraordinariamente bien con las categorías de vinos definidas, validando tanto la coherencia de la taxonomía establecida como la eficacia de las características seleccionadas para discriminar entre las diferentes clases."
      ],
      "metadata": {
        "id": "RRg2NuZVWTjd"
      }
    },
    {
      "cell_type": "code",
      "source": [],
      "metadata": {
        "id": "95RZlbQvYCwB"
      },
      "execution_count": null,
      "outputs": []
    }
  ]
}